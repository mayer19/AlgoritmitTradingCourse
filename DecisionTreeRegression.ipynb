{
 "cells": [
  {
   "cell_type": "code",
   "execution_count": 48,
   "id": "5eff2abb",
   "metadata": {},
   "outputs": [],
   "source": [
    "#imports\n",
    "import pandas as pd\n",
    "from sklearn.tree import DecisionTreeRegressor, plot_tree\n",
    "import numpy as np\n",
    "import pickle"
   ]
  },
  {
   "cell_type": "code",
   "execution_count": 7,
   "id": "a59bf8ec",
   "metadata": {
    "scrolled": false
   },
   "outputs": [
    {
     "data": {
      "text/html": [
       "<div>\n",
       "<style scoped>\n",
       "    .dataframe tbody tr th:only-of-type {\n",
       "        vertical-align: middle;\n",
       "    }\n",
       "\n",
       "    .dataframe tbody tr th {\n",
       "        vertical-align: top;\n",
       "    }\n",
       "\n",
       "    .dataframe thead th {\n",
       "        text-align: right;\n",
       "    }\n",
       "</style>\n",
       "<table border=\"1\" class=\"dataframe\">\n",
       "  <thead>\n",
       "    <tr style=\"text-align: right;\">\n",
       "      <th></th>\n",
       "      <th>Date</th>\n",
       "      <th>Open</th>\n",
       "      <th>High</th>\n",
       "      <th>Low</th>\n",
       "      <th>Close</th>\n",
       "      <th>Adj Close</th>\n",
       "      <th>Volume</th>\n",
       "      <th>percentual_change</th>\n",
       "      <th>change_direction</th>\n",
       "    </tr>\n",
       "  </thead>\n",
       "  <tbody>\n",
       "    <tr>\n",
       "      <th>0</th>\n",
       "      <td>2016-12-08 00:00:00-05:00</td>\n",
       "      <td>61.299999</td>\n",
       "      <td>61.580002</td>\n",
       "      <td>60.840000</td>\n",
       "      <td>61.009998</td>\n",
       "      <td>55.705238</td>\n",
       "      <td>21220800</td>\n",
       "      <td>1.549141</td>\n",
       "      <td>UP</td>\n",
       "    </tr>\n",
       "    <tr>\n",
       "      <th>1</th>\n",
       "      <td>2016-12-09 00:00:00-05:00</td>\n",
       "      <td>61.180000</td>\n",
       "      <td>61.990002</td>\n",
       "      <td>61.130001</td>\n",
       "      <td>61.970001</td>\n",
       "      <td>56.581764</td>\n",
       "      <td>27349400</td>\n",
       "      <td>0.321694</td>\n",
       "      <td>UP</td>\n",
       "    </tr>\n",
       "    <tr>\n",
       "      <th>2</th>\n",
       "      <td>2016-12-12 00:00:00-05:00</td>\n",
       "      <td>61.820000</td>\n",
       "      <td>62.299999</td>\n",
       "      <td>61.720001</td>\n",
       "      <td>62.169998</td>\n",
       "      <td>56.764374</td>\n",
       "      <td>20198100</td>\n",
       "      <td>1.286125</td>\n",
       "      <td>UP</td>\n",
       "    </tr>\n",
       "    <tr>\n",
       "      <th>3</th>\n",
       "      <td>2016-12-13 00:00:00-05:00</td>\n",
       "      <td>62.500000</td>\n",
       "      <td>63.419998</td>\n",
       "      <td>62.240002</td>\n",
       "      <td>62.980000</td>\n",
       "      <td>57.503960</td>\n",
       "      <td>35718900</td>\n",
       "      <td>-0.478620</td>\n",
       "      <td>DOWN</td>\n",
       "    </tr>\n",
       "    <tr>\n",
       "      <th>4</th>\n",
       "      <td>2016-12-14 00:00:00-05:00</td>\n",
       "      <td>63.000000</td>\n",
       "      <td>63.450001</td>\n",
       "      <td>62.529999</td>\n",
       "      <td>62.680000</td>\n",
       "      <td>57.230038</td>\n",
       "      <td>30352700</td>\n",
       "      <td>-0.159793</td>\n",
       "      <td>DOWN</td>\n",
       "    </tr>\n",
       "    <tr>\n",
       "      <th>...</th>\n",
       "      <td>...</td>\n",
       "      <td>...</td>\n",
       "      <td>...</td>\n",
       "      <td>...</td>\n",
       "      <td>...</td>\n",
       "      <td>...</td>\n",
       "      <td>...</td>\n",
       "      <td>...</td>\n",
       "      <td>...</td>\n",
       "    </tr>\n",
       "    <tr>\n",
       "      <th>1784</th>\n",
       "      <td>2024-01-12 00:00:00-05:00</td>\n",
       "      <td>385.489990</td>\n",
       "      <td>388.679993</td>\n",
       "      <td>384.649994</td>\n",
       "      <td>388.470001</td>\n",
       "      <td>388.470001</td>\n",
       "      <td>21645700</td>\n",
       "      <td>0.461216</td>\n",
       "      <td>UP</td>\n",
       "    </tr>\n",
       "    <tr>\n",
       "      <th>1785</th>\n",
       "      <td>2024-01-16 00:00:00-05:00</td>\n",
       "      <td>393.660004</td>\n",
       "      <td>394.029999</td>\n",
       "      <td>387.619995</td>\n",
       "      <td>390.269989</td>\n",
       "      <td>390.269989</td>\n",
       "      <td>27202300</td>\n",
       "      <td>-0.205404</td>\n",
       "      <td>DOWN</td>\n",
       "    </tr>\n",
       "    <tr>\n",
       "      <th>1786</th>\n",
       "      <td>2024-01-17 00:00:00-05:00</td>\n",
       "      <td>387.980011</td>\n",
       "      <td>390.109985</td>\n",
       "      <td>384.809998</td>\n",
       "      <td>389.470001</td>\n",
       "      <td>389.470001</td>\n",
       "      <td>22234100</td>\n",
       "      <td>1.117118</td>\n",
       "      <td>UP</td>\n",
       "    </tr>\n",
       "    <tr>\n",
       "      <th>1787</th>\n",
       "      <td>2024-01-18 00:00:00-05:00</td>\n",
       "      <td>391.720001</td>\n",
       "      <td>393.989990</td>\n",
       "      <td>390.119995</td>\n",
       "      <td>393.869995</td>\n",
       "      <td>393.869995</td>\n",
       "      <td>23392100</td>\n",
       "      <td>1.204008</td>\n",
       "      <td>UP</td>\n",
       "    </tr>\n",
       "    <tr>\n",
       "      <th>1788</th>\n",
       "      <td>2024-01-19 00:00:00-05:00</td>\n",
       "      <td>395.760010</td>\n",
       "      <td>398.670013</td>\n",
       "      <td>393.500000</td>\n",
       "      <td>398.670013</td>\n",
       "      <td>398.670013</td>\n",
       "      <td>29272000</td>\n",
       "      <td>-0.544754</td>\n",
       "      <td>DOWN</td>\n",
       "    </tr>\n",
       "  </tbody>\n",
       "</table>\n",
       "<p>1789 rows × 9 columns</p>\n",
       "</div>"
      ],
      "text/plain": [
       "                           Date        Open        High         Low  \\\n",
       "0     2016-12-08 00:00:00-05:00   61.299999   61.580002   60.840000   \n",
       "1     2016-12-09 00:00:00-05:00   61.180000   61.990002   61.130001   \n",
       "2     2016-12-12 00:00:00-05:00   61.820000   62.299999   61.720001   \n",
       "3     2016-12-13 00:00:00-05:00   62.500000   63.419998   62.240002   \n",
       "4     2016-12-14 00:00:00-05:00   63.000000   63.450001   62.529999   \n",
       "...                         ...         ...         ...         ...   \n",
       "1784  2024-01-12 00:00:00-05:00  385.489990  388.679993  384.649994   \n",
       "1785  2024-01-16 00:00:00-05:00  393.660004  394.029999  387.619995   \n",
       "1786  2024-01-17 00:00:00-05:00  387.980011  390.109985  384.809998   \n",
       "1787  2024-01-18 00:00:00-05:00  391.720001  393.989990  390.119995   \n",
       "1788  2024-01-19 00:00:00-05:00  395.760010  398.670013  393.500000   \n",
       "\n",
       "           Close   Adj Close    Volume  percentual_change change_direction  \n",
       "0      61.009998   55.705238  21220800           1.549141               UP  \n",
       "1      61.970001   56.581764  27349400           0.321694               UP  \n",
       "2      62.169998   56.764374  20198100           1.286125               UP  \n",
       "3      62.980000   57.503960  35718900          -0.478620             DOWN  \n",
       "4      62.680000   57.230038  30352700          -0.159793             DOWN  \n",
       "...          ...         ...       ...                ...              ...  \n",
       "1784  388.470001  388.470001  21645700           0.461216               UP  \n",
       "1785  390.269989  390.269989  27202300          -0.205404             DOWN  \n",
       "1786  389.470001  389.470001  22234100           1.117118               UP  \n",
       "1787  393.869995  393.869995  23392100           1.204008               UP  \n",
       "1788  398.670013  398.670013  29272000          -0.544754             DOWN  \n",
       "\n",
       "[1789 rows x 9 columns]"
      ]
     },
     "execution_count": 7,
     "metadata": {},
     "output_type": "execute_result"
    }
   ],
   "source": [
    "#load data from a csv file (this file is cleaned)\n",
    "df = pd.read_csv('DataNExcels/df_microdt_linkedin.csv')\n",
    "df"
   ]
  },
  {
   "cell_type": "code",
   "execution_count": 10,
   "id": "5d67de53",
   "metadata": {},
   "outputs": [],
   "source": [
    "#separete data into target and explanatory\n",
    "target = df['percentual_change']\n",
    "explanatory = df[['Open', 'High', 'Low', 'Close', 'Volume']]"
   ]
  },
  {
   "cell_type": "code",
   "execution_count": 17,
   "id": "23edb86c",
   "metadata": {},
   "outputs": [],
   "source": [
    "#create model\n",
    "model_dt = DecisionTreeRegressor(max_depth=15)"
   ]
  },
  {
   "cell_type": "code",
   "execution_count": 18,
   "id": "2b96e3cd",
   "metadata": {},
   "outputs": [
    {
     "data": {
      "text/html": [
       "<style>#sk-container-id-2 {color: black;background-color: white;}#sk-container-id-2 pre{padding: 0;}#sk-container-id-2 div.sk-toggleable {background-color: white;}#sk-container-id-2 label.sk-toggleable__label {cursor: pointer;display: block;width: 100%;margin-bottom: 0;padding: 0.3em;box-sizing: border-box;text-align: center;}#sk-container-id-2 label.sk-toggleable__label-arrow:before {content: \"▸\";float: left;margin-right: 0.25em;color: #696969;}#sk-container-id-2 label.sk-toggleable__label-arrow:hover:before {color: black;}#sk-container-id-2 div.sk-estimator:hover label.sk-toggleable__label-arrow:before {color: black;}#sk-container-id-2 div.sk-toggleable__content {max-height: 0;max-width: 0;overflow: hidden;text-align: left;background-color: #f0f8ff;}#sk-container-id-2 div.sk-toggleable__content pre {margin: 0.2em;color: black;border-radius: 0.25em;background-color: #f0f8ff;}#sk-container-id-2 input.sk-toggleable__control:checked~div.sk-toggleable__content {max-height: 200px;max-width: 100%;overflow: auto;}#sk-container-id-2 input.sk-toggleable__control:checked~label.sk-toggleable__label-arrow:before {content: \"▾\";}#sk-container-id-2 div.sk-estimator input.sk-toggleable__control:checked~label.sk-toggleable__label {background-color: #d4ebff;}#sk-container-id-2 div.sk-label input.sk-toggleable__control:checked~label.sk-toggleable__label {background-color: #d4ebff;}#sk-container-id-2 input.sk-hidden--visually {border: 0;clip: rect(1px 1px 1px 1px);clip: rect(1px, 1px, 1px, 1px);height: 1px;margin: -1px;overflow: hidden;padding: 0;position: absolute;width: 1px;}#sk-container-id-2 div.sk-estimator {font-family: monospace;background-color: #f0f8ff;border: 1px dotted black;border-radius: 0.25em;box-sizing: border-box;margin-bottom: 0.5em;}#sk-container-id-2 div.sk-estimator:hover {background-color: #d4ebff;}#sk-container-id-2 div.sk-parallel-item::after {content: \"\";width: 100%;border-bottom: 1px solid gray;flex-grow: 1;}#sk-container-id-2 div.sk-label:hover label.sk-toggleable__label {background-color: #d4ebff;}#sk-container-id-2 div.sk-serial::before {content: \"\";position: absolute;border-left: 1px solid gray;box-sizing: border-box;top: 0;bottom: 0;left: 50%;z-index: 0;}#sk-container-id-2 div.sk-serial {display: flex;flex-direction: column;align-items: center;background-color: white;padding-right: 0.2em;padding-left: 0.2em;position: relative;}#sk-container-id-2 div.sk-item {position: relative;z-index: 1;}#sk-container-id-2 div.sk-parallel {display: flex;align-items: stretch;justify-content: center;background-color: white;position: relative;}#sk-container-id-2 div.sk-item::before, #sk-container-id-2 div.sk-parallel-item::before {content: \"\";position: absolute;border-left: 1px solid gray;box-sizing: border-box;top: 0;bottom: 0;left: 50%;z-index: -1;}#sk-container-id-2 div.sk-parallel-item {display: flex;flex-direction: column;z-index: 1;position: relative;background-color: white;}#sk-container-id-2 div.sk-parallel-item:first-child::after {align-self: flex-end;width: 50%;}#sk-container-id-2 div.sk-parallel-item:last-child::after {align-self: flex-start;width: 50%;}#sk-container-id-2 div.sk-parallel-item:only-child::after {width: 0;}#sk-container-id-2 div.sk-dashed-wrapped {border: 1px dashed gray;margin: 0 0.4em 0.5em 0.4em;box-sizing: border-box;padding-bottom: 0.4em;background-color: white;}#sk-container-id-2 div.sk-label label {font-family: monospace;font-weight: bold;display: inline-block;line-height: 1.2em;}#sk-container-id-2 div.sk-label-container {text-align: center;}#sk-container-id-2 div.sk-container {/* jupyter's `normalize.less` sets `[hidden] { display: none; }` but bootstrap.min.css set `[hidden] { display: none !important; }` so we also need the `!important` here to be able to override the default hidden behavior on the sphinx rendered scikit-learn.org. See: https://github.com/scikit-learn/scikit-learn/issues/21755 */display: inline-block !important;position: relative;}#sk-container-id-2 div.sk-text-repr-fallback {display: none;}</style><div id=\"sk-container-id-2\" class=\"sk-top-container\"><div class=\"sk-text-repr-fallback\"><pre>DecisionTreeRegressor(max_depth=15)</pre><b>In a Jupyter environment, please rerun this cell to show the HTML representation or trust the notebook. <br />On GitHub, the HTML representation is unable to render, please try loading this page with nbviewer.org.</b></div><div class=\"sk-container\" hidden><div class=\"sk-item\"><div class=\"sk-estimator sk-toggleable\"><input class=\"sk-toggleable__control sk-hidden--visually\" id=\"sk-estimator-id-2\" type=\"checkbox\" checked><label for=\"sk-estimator-id-2\" class=\"sk-toggleable__label sk-toggleable__label-arrow\">DecisionTreeRegressor</label><div class=\"sk-toggleable__content\"><pre>DecisionTreeRegressor(max_depth=15)</pre></div></div></div></div></div>"
      ],
      "text/plain": [
       "DecisionTreeRegressor(max_depth=15)"
      ]
     },
     "execution_count": 18,
     "metadata": {},
     "output_type": "execute_result"
    }
   ],
   "source": [
    "model_dt.fit(X=explanatory, y=target)"
   ]
  },
  {
   "cell_type": "code",
   "execution_count": 19,
   "id": "1ae954be",
   "metadata": {},
   "outputs": [
    {
     "data": {
      "image/png": "[encoded data removed]",
      "text/plain": [
       "<Figure size 640x480 with 1 Axes>"
      ]
     },
     "metadata": {},
     "output_type": "display_data"
    }
   ],
   "source": [
    "#plot our tree\n",
    "plot_tree(decision_tree=model_dt, feature_names=model_dt.feature_names_in_);"
   ]
  },
  {
   "cell_type": "code",
   "execution_count": 22,
   "id": "2518ec77",
   "metadata": {},
   "outputs": [
    {
     "data": {
      "text/plain": [
       "array([ 0.11390714,  0.25417862,  0.11390714, ...,  0.60354793,\n",
       "        0.47202923, -0.54475388])"
      ]
     },
     "execution_count": 22,
     "metadata": {},
     "output_type": "execute_result"
    }
   ],
   "source": [
    "#predict\n",
    "y_pred = model_dt.predict(X=explanatory)\n",
    "y_pred"
   ]
  },
  {
   "cell_type": "code",
   "execution_count": 26,
   "id": "5fd2ee11",
   "metadata": {},
   "outputs": [
    {
     "data": {
      "text/html": [
       "<div>\n",
       "<style scoped>\n",
       "    .dataframe tbody tr th:only-of-type {\n",
       "        vertical-align: middle;\n",
       "    }\n",
       "\n",
       "    .dataframe tbody tr th {\n",
       "        vertical-align: top;\n",
       "    }\n",
       "\n",
       "    .dataframe thead th {\n",
       "        text-align: right;\n",
       "    }\n",
       "</style>\n",
       "<table border=\"1\" class=\"dataframe\">\n",
       "  <thead>\n",
       "    <tr style=\"text-align: right;\">\n",
       "      <th></th>\n",
       "      <th>percentual_change</th>\n",
       "      <th>prediction</th>\n",
       "    </tr>\n",
       "  </thead>\n",
       "  <tbody>\n",
       "    <tr>\n",
       "      <th>0</th>\n",
       "      <td>1.549141</td>\n",
       "      <td>0.113907</td>\n",
       "    </tr>\n",
       "    <tr>\n",
       "      <th>1</th>\n",
       "      <td>0.321694</td>\n",
       "      <td>0.254179</td>\n",
       "    </tr>\n",
       "    <tr>\n",
       "      <th>2</th>\n",
       "      <td>1.286125</td>\n",
       "      <td>0.113907</td>\n",
       "    </tr>\n",
       "    <tr>\n",
       "      <th>3</th>\n",
       "      <td>-0.478620</td>\n",
       "      <td>0.435360</td>\n",
       "    </tr>\n",
       "    <tr>\n",
       "      <th>4</th>\n",
       "      <td>-0.159793</td>\n",
       "      <td>0.188104</td>\n",
       "    </tr>\n",
       "    <tr>\n",
       "      <th>...</th>\n",
       "      <td>...</td>\n",
       "      <td>...</td>\n",
       "    </tr>\n",
       "    <tr>\n",
       "      <th>1784</th>\n",
       "      <td>0.461216</td>\n",
       "      <td>0.404175</td>\n",
       "    </tr>\n",
       "    <tr>\n",
       "      <th>1785</th>\n",
       "      <td>-0.205404</td>\n",
       "      <td>0.098376</td>\n",
       "    </tr>\n",
       "    <tr>\n",
       "      <th>1786</th>\n",
       "      <td>1.117118</td>\n",
       "      <td>0.603548</td>\n",
       "    </tr>\n",
       "    <tr>\n",
       "      <th>1787</th>\n",
       "      <td>1.204008</td>\n",
       "      <td>0.472029</td>\n",
       "    </tr>\n",
       "    <tr>\n",
       "      <th>1788</th>\n",
       "      <td>-0.544754</td>\n",
       "      <td>-0.544754</td>\n",
       "    </tr>\n",
       "  </tbody>\n",
       "</table>\n",
       "<p>1789 rows × 2 columns</p>\n",
       "</div>"
      ],
      "text/plain": [
       "      percentual_change  prediction\n",
       "0              1.549141    0.113907\n",
       "1              0.321694    0.254179\n",
       "2              1.286125    0.113907\n",
       "3             -0.478620    0.435360\n",
       "4             -0.159793    0.188104\n",
       "...                 ...         ...\n",
       "1784           0.461216    0.404175\n",
       "1785          -0.205404    0.098376\n",
       "1786           1.117118    0.603548\n",
       "1787           1.204008    0.472029\n",
       "1788          -0.544754   -0.544754\n",
       "\n",
       "[1789 rows x 2 columns]"
      ]
     },
     "execution_count": 26,
     "metadata": {},
     "output_type": "execute_result"
    }
   ],
   "source": [
    "df_predictions = df[['percentual_change']].copy()\n",
    "df_predictions['prediction'] = y_pred\n",
    "df_predictions"
   ]
  },
  {
   "cell_type": "code",
   "execution_count": 32,
   "id": "b45a6c3c",
   "metadata": {},
   "outputs": [
    {
     "name": "stdout",
     "output_type": "stream",
     "text": [
      "Model precision is 53.91%\n"
     ]
    }
   ],
   "source": [
    "score = model_dt.score(X=explanatory, y=target)\n",
    "print(f'Model precision is {score*100:.2f}%')"
   ]
  },
  {
   "cell_type": "code",
   "execution_count": 35,
   "id": "5d1e1ba1",
   "metadata": {},
   "outputs": [
    {
     "data": {
      "text/html": [
       "<div>\n",
       "<style scoped>\n",
       "    .dataframe tbody tr th:only-of-type {\n",
       "        vertical-align: middle;\n",
       "    }\n",
       "\n",
       "    .dataframe tbody tr th {\n",
       "        vertical-align: top;\n",
       "    }\n",
       "\n",
       "    .dataframe thead th {\n",
       "        text-align: right;\n",
       "    }\n",
       "</style>\n",
       "<table border=\"1\" class=\"dataframe\">\n",
       "  <thead>\n",
       "    <tr style=\"text-align: right;\">\n",
       "      <th></th>\n",
       "      <th>percentual_change</th>\n",
       "      <th>prediction</th>\n",
       "      <th>error</th>\n",
       "    </tr>\n",
       "  </thead>\n",
       "  <tbody>\n",
       "    <tr>\n",
       "      <th>0</th>\n",
       "      <td>1.549141</td>\n",
       "      <td>0.113907</td>\n",
       "      <td>-1.435234</td>\n",
       "    </tr>\n",
       "    <tr>\n",
       "      <th>1</th>\n",
       "      <td>0.321694</td>\n",
       "      <td>0.254179</td>\n",
       "      <td>-0.067515</td>\n",
       "    </tr>\n",
       "    <tr>\n",
       "      <th>2</th>\n",
       "      <td>1.286125</td>\n",
       "      <td>0.113907</td>\n",
       "      <td>-1.172218</td>\n",
       "    </tr>\n",
       "    <tr>\n",
       "      <th>3</th>\n",
       "      <td>-0.478620</td>\n",
       "      <td>0.435360</td>\n",
       "      <td>0.913981</td>\n",
       "    </tr>\n",
       "    <tr>\n",
       "      <th>4</th>\n",
       "      <td>-0.159793</td>\n",
       "      <td>0.188104</td>\n",
       "      <td>0.347897</td>\n",
       "    </tr>\n",
       "    <tr>\n",
       "      <th>...</th>\n",
       "      <td>...</td>\n",
       "      <td>...</td>\n",
       "      <td>...</td>\n",
       "    </tr>\n",
       "    <tr>\n",
       "      <th>1784</th>\n",
       "      <td>0.461216</td>\n",
       "      <td>0.404175</td>\n",
       "      <td>-0.057041</td>\n",
       "    </tr>\n",
       "    <tr>\n",
       "      <th>1785</th>\n",
       "      <td>-0.205404</td>\n",
       "      <td>0.098376</td>\n",
       "      <td>0.303780</td>\n",
       "    </tr>\n",
       "    <tr>\n",
       "      <th>1786</th>\n",
       "      <td>1.117118</td>\n",
       "      <td>0.603548</td>\n",
       "      <td>-0.513570</td>\n",
       "    </tr>\n",
       "    <tr>\n",
       "      <th>1787</th>\n",
       "      <td>1.204008</td>\n",
       "      <td>0.472029</td>\n",
       "      <td>-0.731979</td>\n",
       "    </tr>\n",
       "    <tr>\n",
       "      <th>1788</th>\n",
       "      <td>-0.544754</td>\n",
       "      <td>-0.544754</td>\n",
       "      <td>0.000000</td>\n",
       "    </tr>\n",
       "  </tbody>\n",
       "</table>\n",
       "<p>1789 rows × 3 columns</p>\n",
       "</div>"
      ],
      "text/plain": [
       "      percentual_change  prediction     error\n",
       "0              1.549141    0.113907 -1.435234\n",
       "1              0.321694    0.254179 -0.067515\n",
       "2              1.286125    0.113907 -1.172218\n",
       "3             -0.478620    0.435360  0.913981\n",
       "4             -0.159793    0.188104  0.347897\n",
       "...                 ...         ...       ...\n",
       "1784           0.461216    0.404175 -0.057041\n",
       "1785          -0.205404    0.098376  0.303780\n",
       "1786           1.117118    0.603548 -0.513570\n",
       "1787           1.204008    0.472029 -0.731979\n",
       "1788          -0.544754   -0.544754  0.000000\n",
       "\n",
       "[1789 rows x 3 columns]"
      ]
     },
     "execution_count": 35,
     "metadata": {},
     "output_type": "execute_result"
    }
   ],
   "source": [
    "#Calculate the error\n",
    "df_predictions['error'] = df_predictions['prediction'] - df_predictions['percentual_change']\n",
    "df_predictions"
   ]
  },
  {
   "cell_type": "code",
   "execution_count": 39,
   "id": "6bd001e4",
   "metadata": {},
   "outputs": [
    {
     "data": {
      "text/plain": [
       "2626.692988693757"
      ]
     },
     "execution_count": 39,
     "metadata": {},
     "output_type": "execute_result"
    }
   ],
   "source": [
    "#sum all errors\n",
    "df_predictions['error2'] = df_predictions.error**2 #multyiply it because of negative sums\n",
    "sse = df_predictions.error2.sum()"
   ]
  },
  {
   "cell_type": "code",
   "execution_count": 41,
   "id": "698c1bcf",
   "metadata": {},
   "outputs": [
    {
     "data": {
      "text/plain": [
       "1.4682465001083045"
      ]
     },
     "execution_count": 41,
     "metadata": {},
     "output_type": "execute_result"
    }
   ],
   "source": [
    "mse = df_predictions.error2.mean()\n",
    "mse"
   ]
  },
  {
   "cell_type": "code",
   "execution_count": 43,
   "id": "ef2abebb",
   "metadata": {},
   "outputs": [
    {
     "data": {
      "text/plain": [
       "1.2117122183539721"
      ]
     },
     "execution_count": 43,
     "metadata": {},
     "output_type": "execute_result"
    }
   ],
   "source": [
    "rmse = np.sqrt(mse)\n",
    "rmse # this is our standart deviation"
   ]
  },
  {
   "cell_type": "code",
   "execution_count": 44,
   "id": "e2d04779",
   "metadata": {},
   "outputs": [
    {
     "data": {
      "text/plain": [
       "<AxesSubplot: >"
      ]
     },
     "execution_count": 44,
     "metadata": {},
     "output_type": "execute_result"
    },
    {
     "data": {
      "image/png": "[encoded data removed]",
      "text/plain": [
       "<Figure size 640x480 with 1 Axes>"
      ]
     },
     "metadata": {},
     "output_type": "display_data"
    }
   ],
   "source": [
    "df_predictions.error.hist(bins=30)"
   ]
  },
  {
   "cell_type": "code",
   "execution_count": 50,
   "id": "4904e419",
   "metadata": {},
   "outputs": [],
   "source": [
    "#save model into a pickle file\n",
    "with open(\"models/model_dt_Regression.pkl\", 'wb') as f:\n",
    "    pickle.dump(model_dt, f)"
   ]
  },
  {
   "cell_type": "code",
   "execution_count": null,
   "id": "604d9c8a",
   "metadata": {},
   "outputs": [],
   "source": []
  },
  {
   "cell_type": "code",
   "execution_count": null,
   "id": "d22d2d00",
   "metadata": {},
   "outputs": [],
   "source": []
  }
 ],
 "metadata": {
  "kernelspec": {
   "display_name": "Python 3 (ipykernel)",
   "language": "python",
   "name": "python3"
  },
  "language_info": {
   "codemirror_mode": {
    "name": "ipython",
    "version": 3
   },
   "file_extension": ".py",
   "mimetype": "text/x-python",
   "name": "python",
   "nbconvert_exporter": "python",
   "pygments_lexer": "ipython3",
   "version": "3.10.5"
  }
 },
 "nbformat": 4,
 "nbformat_minor": 5
}
