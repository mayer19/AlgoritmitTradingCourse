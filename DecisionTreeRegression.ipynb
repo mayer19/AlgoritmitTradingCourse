{
 "cells": [
  {
   "cell_type": "code",
   "execution_count": 24,
   "id": "5eff2abb",
   "metadata": {},
   "outputs": [],
   "source": [
    "#imports\n",
    "import pandas as pd\n",
    "from sklearn.tree import DecisionTreeRegressor, plot_tree\n",
    "import numpy as np\n",
    "import pickle\n",
    "from backtesting import Backtest, Strategy"
   ]
  },
  {
   "cell_type": "code",
   "execution_count": 25,
   "id": "a59bf8ec",
   "metadata": {
    "scrolled": false
   },
   "outputs": [
    {
     "data": {
      "text/html": [
       "<div>\n",
       "<style scoped>\n",
       "    .dataframe tbody tr th:only-of-type {\n",
       "        vertical-align: middle;\n",
       "    }\n",
       "\n",
       "    .dataframe tbody tr th {\n",
       "        vertical-align: top;\n",
       "    }\n",
       "\n",
       "    .dataframe thead th {\n",
       "        text-align: right;\n",
       "    }\n",
       "</style>\n",
       "<table border=\"1\" class=\"dataframe\">\n",
       "  <thead>\n",
       "    <tr style=\"text-align: right;\">\n",
       "      <th></th>\n",
       "      <th>Date</th>\n",
       "      <th>Open</th>\n",
       "      <th>High</th>\n",
       "      <th>Low</th>\n",
       "      <th>Close</th>\n",
       "      <th>Adj Close</th>\n",
       "      <th>Volume</th>\n",
       "      <th>percentual_change</th>\n",
       "      <th>change_direction</th>\n",
       "    </tr>\n",
       "  </thead>\n",
       "  <tbody>\n",
       "    <tr>\n",
       "      <th>0</th>\n",
       "      <td>2016-12-08 00:00:00-05:00</td>\n",
       "      <td>61.299999</td>\n",
       "      <td>61.580002</td>\n",
       "      <td>60.840000</td>\n",
       "      <td>61.009998</td>\n",
       "      <td>55.705238</td>\n",
       "      <td>21220800</td>\n",
       "      <td>1.549141</td>\n",
       "      <td>UP</td>\n",
       "    </tr>\n",
       "    <tr>\n",
       "      <th>1</th>\n",
       "      <td>2016-12-09 00:00:00-05:00</td>\n",
       "      <td>61.180000</td>\n",
       "      <td>61.990002</td>\n",
       "      <td>61.130001</td>\n",
       "      <td>61.970001</td>\n",
       "      <td>56.581764</td>\n",
       "      <td>27349400</td>\n",
       "      <td>0.321694</td>\n",
       "      <td>UP</td>\n",
       "    </tr>\n",
       "    <tr>\n",
       "      <th>2</th>\n",
       "      <td>2016-12-12 00:00:00-05:00</td>\n",
       "      <td>61.820000</td>\n",
       "      <td>62.299999</td>\n",
       "      <td>61.720001</td>\n",
       "      <td>62.169998</td>\n",
       "      <td>56.764374</td>\n",
       "      <td>20198100</td>\n",
       "      <td>1.286125</td>\n",
       "      <td>UP</td>\n",
       "    </tr>\n",
       "    <tr>\n",
       "      <th>3</th>\n",
       "      <td>2016-12-13 00:00:00-05:00</td>\n",
       "      <td>62.500000</td>\n",
       "      <td>63.419998</td>\n",
       "      <td>62.240002</td>\n",
       "      <td>62.980000</td>\n",
       "      <td>57.503960</td>\n",
       "      <td>35718900</td>\n",
       "      <td>-0.478620</td>\n",
       "      <td>DOWN</td>\n",
       "    </tr>\n",
       "    <tr>\n",
       "      <th>4</th>\n",
       "      <td>2016-12-14 00:00:00-05:00</td>\n",
       "      <td>63.000000</td>\n",
       "      <td>63.450001</td>\n",
       "      <td>62.529999</td>\n",
       "      <td>62.680000</td>\n",
       "      <td>57.230038</td>\n",
       "      <td>30352700</td>\n",
       "      <td>-0.159793</td>\n",
       "      <td>DOWN</td>\n",
       "    </tr>\n",
       "    <tr>\n",
       "      <th>...</th>\n",
       "      <td>...</td>\n",
       "      <td>...</td>\n",
       "      <td>...</td>\n",
       "      <td>...</td>\n",
       "      <td>...</td>\n",
       "      <td>...</td>\n",
       "      <td>...</td>\n",
       "      <td>...</td>\n",
       "      <td>...</td>\n",
       "    </tr>\n",
       "    <tr>\n",
       "      <th>1784</th>\n",
       "      <td>2024-01-12 00:00:00-05:00</td>\n",
       "      <td>385.489990</td>\n",
       "      <td>388.679993</td>\n",
       "      <td>384.649994</td>\n",
       "      <td>388.470001</td>\n",
       "      <td>388.470001</td>\n",
       "      <td>21645700</td>\n",
       "      <td>0.461216</td>\n",
       "      <td>UP</td>\n",
       "    </tr>\n",
       "    <tr>\n",
       "      <th>1785</th>\n",
       "      <td>2024-01-16 00:00:00-05:00</td>\n",
       "      <td>393.660004</td>\n",
       "      <td>394.029999</td>\n",
       "      <td>387.619995</td>\n",
       "      <td>390.269989</td>\n",
       "      <td>390.269989</td>\n",
       "      <td>27202300</td>\n",
       "      <td>-0.205404</td>\n",
       "      <td>DOWN</td>\n",
       "    </tr>\n",
       "    <tr>\n",
       "      <th>1786</th>\n",
       "      <td>2024-01-17 00:00:00-05:00</td>\n",
       "      <td>387.980011</td>\n",
       "      <td>390.109985</td>\n",
       "      <td>384.809998</td>\n",
       "      <td>389.470001</td>\n",
       "      <td>389.470001</td>\n",
       "      <td>22234100</td>\n",
       "      <td>1.117118</td>\n",
       "      <td>UP</td>\n",
       "    </tr>\n",
       "    <tr>\n",
       "      <th>1787</th>\n",
       "      <td>2024-01-18 00:00:00-05:00</td>\n",
       "      <td>391.720001</td>\n",
       "      <td>393.989990</td>\n",
       "      <td>390.119995</td>\n",
       "      <td>393.869995</td>\n",
       "      <td>393.869995</td>\n",
       "      <td>23392100</td>\n",
       "      <td>1.204008</td>\n",
       "      <td>UP</td>\n",
       "    </tr>\n",
       "    <tr>\n",
       "      <th>1788</th>\n",
       "      <td>2024-01-19 00:00:00-05:00</td>\n",
       "      <td>395.760010</td>\n",
       "      <td>398.670013</td>\n",
       "      <td>393.500000</td>\n",
       "      <td>398.670013</td>\n",
       "      <td>398.670013</td>\n",
       "      <td>29272000</td>\n",
       "      <td>-0.544754</td>\n",
       "      <td>DOWN</td>\n",
       "    </tr>\n",
       "  </tbody>\n",
       "</table>\n",
       "<p>1789 rows × 9 columns</p>\n",
       "</div>"
      ],
      "text/plain": [
       "                           Date        Open        High         Low  \\\n",
       "0     2016-12-08 00:00:00-05:00   61.299999   61.580002   60.840000   \n",
       "1     2016-12-09 00:00:00-05:00   61.180000   61.990002   61.130001   \n",
       "2     2016-12-12 00:00:00-05:00   61.820000   62.299999   61.720001   \n",
       "3     2016-12-13 00:00:00-05:00   62.500000   63.419998   62.240002   \n",
       "4     2016-12-14 00:00:00-05:00   63.000000   63.450001   62.529999   \n",
       "...                         ...         ...         ...         ...   \n",
       "1784  2024-01-12 00:00:00-05:00  385.489990  388.679993  384.649994   \n",
       "1785  2024-01-16 00:00:00-05:00  393.660004  394.029999  387.619995   \n",
       "1786  2024-01-17 00:00:00-05:00  387.980011  390.109985  384.809998   \n",
       "1787  2024-01-18 00:00:00-05:00  391.720001  393.989990  390.119995   \n",
       "1788  2024-01-19 00:00:00-05:00  395.760010  398.670013  393.500000   \n",
       "\n",
       "           Close   Adj Close    Volume  percentual_change change_direction  \n",
       "0      61.009998   55.705238  21220800           1.549141               UP  \n",
       "1      61.970001   56.581764  27349400           0.321694               UP  \n",
       "2      62.169998   56.764374  20198100           1.286125               UP  \n",
       "3      62.980000   57.503960  35718900          -0.478620             DOWN  \n",
       "4      62.680000   57.230038  30352700          -0.159793             DOWN  \n",
       "...          ...         ...       ...                ...              ...  \n",
       "1784  388.470001  388.470001  21645700           0.461216               UP  \n",
       "1785  390.269989  390.269989  27202300          -0.205404             DOWN  \n",
       "1786  389.470001  389.470001  22234100           1.117118               UP  \n",
       "1787  393.869995  393.869995  23392100           1.204008               UP  \n",
       "1788  398.670013  398.670013  29272000          -0.544754             DOWN  \n",
       "\n",
       "[1789 rows x 9 columns]"
      ]
     },
     "execution_count": 25,
     "metadata": {},
     "output_type": "execute_result"
    }
   ],
   "source": [
    "#load data from a csv file (this file is cleaned)\n",
    "#df = pd.read_csv('DataNExcels/df_microdt_linkedin.csv', index_col='Date')\n",
    "df = pd.read_csv('DataNExcels/df_microdt_linkedin.csv')\n",
    "df"
   ]
  },
  {
   "cell_type": "code",
   "execution_count": 26,
   "id": "5d67de53",
   "metadata": {},
   "outputs": [],
   "source": [
    "#separete data into target and explanatory\n",
    "target = df['percentual_change']\n",
    "explanatory = df[['Open', 'High', 'Low', 'Close', 'Volume']]"
   ]
  },
  {
   "cell_type": "code",
   "execution_count": 27,
   "id": "23edb86c",
   "metadata": {},
   "outputs": [],
   "source": [
    "#create model\n",
    "model_dt = DecisionTreeRegressor(max_depth=15)"
   ]
  },
  {
   "cell_type": "code",
   "execution_count": 28,
   "id": "2b96e3cd",
   "metadata": {},
   "outputs": [
    {
     "data": {
      "text/html": [
       "<style>#sk-container-id-2 {color: black;background-color: white;}#sk-container-id-2 pre{padding: 0;}#sk-container-id-2 div.sk-toggleable {background-color: white;}#sk-container-id-2 label.sk-toggleable__label {cursor: pointer;display: block;width: 100%;margin-bottom: 0;padding: 0.3em;box-sizing: border-box;text-align: center;}#sk-container-id-2 label.sk-toggleable__label-arrow:before {content: \"▸\";float: left;margin-right: 0.25em;color: #696969;}#sk-container-id-2 label.sk-toggleable__label-arrow:hover:before {color: black;}#sk-container-id-2 div.sk-estimator:hover label.sk-toggleable__label-arrow:before {color: black;}#sk-container-id-2 div.sk-toggleable__content {max-height: 0;max-width: 0;overflow: hidden;text-align: left;background-color: #f0f8ff;}#sk-container-id-2 div.sk-toggleable__content pre {margin: 0.2em;color: black;border-radius: 0.25em;background-color: #f0f8ff;}#sk-container-id-2 input.sk-toggleable__control:checked~div.sk-toggleable__content {max-height: 200px;max-width: 100%;overflow: auto;}#sk-container-id-2 input.sk-toggleable__control:checked~label.sk-toggleable__label-arrow:before {content: \"▾\";}#sk-container-id-2 div.sk-estimator input.sk-toggleable__control:checked~label.sk-toggleable__label {background-color: #d4ebff;}#sk-container-id-2 div.sk-label input.sk-toggleable__control:checked~label.sk-toggleable__label {background-color: #d4ebff;}#sk-container-id-2 input.sk-hidden--visually {border: 0;clip: rect(1px 1px 1px 1px);clip: rect(1px, 1px, 1px, 1px);height: 1px;margin: -1px;overflow: hidden;padding: 0;position: absolute;width: 1px;}#sk-container-id-2 div.sk-estimator {font-family: monospace;background-color: #f0f8ff;border: 1px dotted black;border-radius: 0.25em;box-sizing: border-box;margin-bottom: 0.5em;}#sk-container-id-2 div.sk-estimator:hover {background-color: #d4ebff;}#sk-container-id-2 div.sk-parallel-item::after {content: \"\";width: 100%;border-bottom: 1px solid gray;flex-grow: 1;}#sk-container-id-2 div.sk-label:hover label.sk-toggleable__label {background-color: #d4ebff;}#sk-container-id-2 div.sk-serial::before {content: \"\";position: absolute;border-left: 1px solid gray;box-sizing: border-box;top: 0;bottom: 0;left: 50%;z-index: 0;}#sk-container-id-2 div.sk-serial {display: flex;flex-direction: column;align-items: center;background-color: white;padding-right: 0.2em;padding-left: 0.2em;position: relative;}#sk-container-id-2 div.sk-item {position: relative;z-index: 1;}#sk-container-id-2 div.sk-parallel {display: flex;align-items: stretch;justify-content: center;background-color: white;position: relative;}#sk-container-id-2 div.sk-item::before, #sk-container-id-2 div.sk-parallel-item::before {content: \"\";position: absolute;border-left: 1px solid gray;box-sizing: border-box;top: 0;bottom: 0;left: 50%;z-index: -1;}#sk-container-id-2 div.sk-parallel-item {display: flex;flex-direction: column;z-index: 1;position: relative;background-color: white;}#sk-container-id-2 div.sk-parallel-item:first-child::after {align-self: flex-end;width: 50%;}#sk-container-id-2 div.sk-parallel-item:last-child::after {align-self: flex-start;width: 50%;}#sk-container-id-2 div.sk-parallel-item:only-child::after {width: 0;}#sk-container-id-2 div.sk-dashed-wrapped {border: 1px dashed gray;margin: 0 0.4em 0.5em 0.4em;box-sizing: border-box;padding-bottom: 0.4em;background-color: white;}#sk-container-id-2 div.sk-label label {font-family: monospace;font-weight: bold;display: inline-block;line-height: 1.2em;}#sk-container-id-2 div.sk-label-container {text-align: center;}#sk-container-id-2 div.sk-container {/* jupyter's `normalize.less` sets `[hidden] { display: none; }` but bootstrap.min.css set `[hidden] { display: none !important; }` so we also need the `!important` here to be able to override the default hidden behavior on the sphinx rendered scikit-learn.org. See: https://github.com/scikit-learn/scikit-learn/issues/21755 */display: inline-block !important;position: relative;}#sk-container-id-2 div.sk-text-repr-fallback {display: none;}</style><div id=\"sk-container-id-2\" class=\"sk-top-container\"><div class=\"sk-text-repr-fallback\"><pre>DecisionTreeRegressor(max_depth=15)</pre><b>In a Jupyter environment, please rerun this cell to show the HTML representation or trust the notebook. <br />On GitHub, the HTML representation is unable to render, please try loading this page with nbviewer.org.</b></div><div class=\"sk-container\" hidden><div class=\"sk-item\"><div class=\"sk-estimator sk-toggleable\"><input class=\"sk-toggleable__control sk-hidden--visually\" id=\"sk-estimator-id-2\" type=\"checkbox\" checked><label for=\"sk-estimator-id-2\" class=\"sk-toggleable__label sk-toggleable__label-arrow\">DecisionTreeRegressor</label><div class=\"sk-toggleable__content\"><pre>DecisionTreeRegressor(max_depth=15)</pre></div></div></div></div></div>"
      ],
      "text/plain": [
       "DecisionTreeRegressor(max_depth=15)"
      ]
     },
     "execution_count": 28,
     "metadata": {},
     "output_type": "execute_result"
    }
   ],
   "source": [
    "model_dt.fit(X=explanatory, y=target)"
   ]
  },
  {
   "cell_type": "code",
   "execution_count": 29,
   "id": "1ae954be",
   "metadata": {},
   "outputs": [
    {
     "data": {
      "image/png": "[encoded data removed]",
      "text/plain": [
       "<Figure size 640x480 with 1 Axes>"
      ]
     },
     "metadata": {},
     "output_type": "display_data"
    }
   ],
   "source": [
    "#plot our tree\n",
    "plot_tree(decision_tree=model_dt, feature_names=model_dt.feature_names_in_);"
   ]
  },
  {
   "cell_type": "code",
   "execution_count": 30,
   "id": "2518ec77",
   "metadata": {},
   "outputs": [
    {
     "data": {
      "text/plain": [
       "array([ 0.11390714,  0.25417862,  0.11390714, ...,  0.60354793,\n",
       "        0.47202923, -0.54475388])"
      ]
     },
     "execution_count": 30,
     "metadata": {},
     "output_type": "execute_result"
    }
   ],
   "source": [
    "#predict\n",
    "y_pred = model_dt.predict(X=explanatory)\n",
    "y_pred"
   ]
  },
  {
   "cell_type": "code",
   "execution_count": 31,
   "id": "5fd2ee11",
   "metadata": {},
   "outputs": [
    {
     "data": {
      "text/html": [
       "<div>\n",
       "<style scoped>\n",
       "    .dataframe tbody tr th:only-of-type {\n",
       "        vertical-align: middle;\n",
       "    }\n",
       "\n",
       "    .dataframe tbody tr th {\n",
       "        vertical-align: top;\n",
       "    }\n",
       "\n",
       "    .dataframe thead th {\n",
       "        text-align: right;\n",
       "    }\n",
       "</style>\n",
       "<table border=\"1\" class=\"dataframe\">\n",
       "  <thead>\n",
       "    <tr style=\"text-align: right;\">\n",
       "      <th></th>\n",
       "      <th>percentual_change</th>\n",
       "      <th>prediction</th>\n",
       "    </tr>\n",
       "  </thead>\n",
       "  <tbody>\n",
       "    <tr>\n",
       "      <th>0</th>\n",
       "      <td>1.549141</td>\n",
       "      <td>0.113907</td>\n",
       "    </tr>\n",
       "    <tr>\n",
       "      <th>1</th>\n",
       "      <td>0.321694</td>\n",
       "      <td>0.254179</td>\n",
       "    </tr>\n",
       "    <tr>\n",
       "      <th>2</th>\n",
       "      <td>1.286125</td>\n",
       "      <td>0.113907</td>\n",
       "    </tr>\n",
       "    <tr>\n",
       "      <th>3</th>\n",
       "      <td>-0.478620</td>\n",
       "      <td>0.435360</td>\n",
       "    </tr>\n",
       "    <tr>\n",
       "      <th>4</th>\n",
       "      <td>-0.159793</td>\n",
       "      <td>0.188104</td>\n",
       "    </tr>\n",
       "    <tr>\n",
       "      <th>...</th>\n",
       "      <td>...</td>\n",
       "      <td>...</td>\n",
       "    </tr>\n",
       "    <tr>\n",
       "      <th>1784</th>\n",
       "      <td>0.461216</td>\n",
       "      <td>0.404175</td>\n",
       "    </tr>\n",
       "    <tr>\n",
       "      <th>1785</th>\n",
       "      <td>-0.205404</td>\n",
       "      <td>0.098376</td>\n",
       "    </tr>\n",
       "    <tr>\n",
       "      <th>1786</th>\n",
       "      <td>1.117118</td>\n",
       "      <td>0.603548</td>\n",
       "    </tr>\n",
       "    <tr>\n",
       "      <th>1787</th>\n",
       "      <td>1.204008</td>\n",
       "      <td>0.472029</td>\n",
       "    </tr>\n",
       "    <tr>\n",
       "      <th>1788</th>\n",
       "      <td>-0.544754</td>\n",
       "      <td>-0.544754</td>\n",
       "    </tr>\n",
       "  </tbody>\n",
       "</table>\n",
       "<p>1789 rows × 2 columns</p>\n",
       "</div>"
      ],
      "text/plain": [
       "      percentual_change  prediction\n",
       "0              1.549141    0.113907\n",
       "1              0.321694    0.254179\n",
       "2              1.286125    0.113907\n",
       "3             -0.478620    0.435360\n",
       "4             -0.159793    0.188104\n",
       "...                 ...         ...\n",
       "1784           0.461216    0.404175\n",
       "1785          -0.205404    0.098376\n",
       "1786           1.117118    0.603548\n",
       "1787           1.204008    0.472029\n",
       "1788          -0.544754   -0.544754\n",
       "\n",
       "[1789 rows x 2 columns]"
      ]
     },
     "execution_count": 31,
     "metadata": {},
     "output_type": "execute_result"
    }
   ],
   "source": [
    "df_predictions = df[['percentual_change']].copy()\n",
    "df_predictions['prediction'] = y_pred\n",
    "df_predictions"
   ]
  },
  {
   "cell_type": "code",
   "execution_count": 32,
   "id": "b45a6c3c",
   "metadata": {},
   "outputs": [
    {
     "name": "stdout",
     "output_type": "stream",
     "text": [
      "Model precision is 53.91%\n"
     ]
    }
   ],
   "source": [
    "score = model_dt.score(X=explanatory, y=target)\n",
    "print(f'Model precision is {score*100:.2f}%')"
   ]
  },
  {
   "cell_type": "code",
   "execution_count": 33,
   "id": "5d1e1ba1",
   "metadata": {},
   "outputs": [
    {
     "data": {
      "text/html": [
       "<div>\n",
       "<style scoped>\n",
       "    .dataframe tbody tr th:only-of-type {\n",
       "        vertical-align: middle;\n",
       "    }\n",
       "\n",
       "    .dataframe tbody tr th {\n",
       "        vertical-align: top;\n",
       "    }\n",
       "\n",
       "    .dataframe thead th {\n",
       "        text-align: right;\n",
       "    }\n",
       "</style>\n",
       "<table border=\"1\" class=\"dataframe\">\n",
       "  <thead>\n",
       "    <tr style=\"text-align: right;\">\n",
       "      <th></th>\n",
       "      <th>percentual_change</th>\n",
       "      <th>prediction</th>\n",
       "      <th>error</th>\n",
       "    </tr>\n",
       "  </thead>\n",
       "  <tbody>\n",
       "    <tr>\n",
       "      <th>0</th>\n",
       "      <td>1.549141</td>\n",
       "      <td>0.113907</td>\n",
       "      <td>-1.435234</td>\n",
       "    </tr>\n",
       "    <tr>\n",
       "      <th>1</th>\n",
       "      <td>0.321694</td>\n",
       "      <td>0.254179</td>\n",
       "      <td>-0.067515</td>\n",
       "    </tr>\n",
       "    <tr>\n",
       "      <th>2</th>\n",
       "      <td>1.286125</td>\n",
       "      <td>0.113907</td>\n",
       "      <td>-1.172218</td>\n",
       "    </tr>\n",
       "    <tr>\n",
       "      <th>3</th>\n",
       "      <td>-0.478620</td>\n",
       "      <td>0.435360</td>\n",
       "      <td>0.913981</td>\n",
       "    </tr>\n",
       "    <tr>\n",
       "      <th>4</th>\n",
       "      <td>-0.159793</td>\n",
       "      <td>0.188104</td>\n",
       "      <td>0.347897</td>\n",
       "    </tr>\n",
       "    <tr>\n",
       "      <th>...</th>\n",
       "      <td>...</td>\n",
       "      <td>...</td>\n",
       "      <td>...</td>\n",
       "    </tr>\n",
       "    <tr>\n",
       "      <th>1784</th>\n",
       "      <td>0.461216</td>\n",
       "      <td>0.404175</td>\n",
       "      <td>-0.057041</td>\n",
       "    </tr>\n",
       "    <tr>\n",
       "      <th>1785</th>\n",
       "      <td>-0.205404</td>\n",
       "      <td>0.098376</td>\n",
       "      <td>0.303780</td>\n",
       "    </tr>\n",
       "    <tr>\n",
       "      <th>1786</th>\n",
       "      <td>1.117118</td>\n",
       "      <td>0.603548</td>\n",
       "      <td>-0.513570</td>\n",
       "    </tr>\n",
       "    <tr>\n",
       "      <th>1787</th>\n",
       "      <td>1.204008</td>\n",
       "      <td>0.472029</td>\n",
       "      <td>-0.731979</td>\n",
       "    </tr>\n",
       "    <tr>\n",
       "      <th>1788</th>\n",
       "      <td>-0.544754</td>\n",
       "      <td>-0.544754</td>\n",
       "      <td>0.000000</td>\n",
       "    </tr>\n",
       "  </tbody>\n",
       "</table>\n",
       "<p>1789 rows × 3 columns</p>\n",
       "</div>"
      ],
      "text/plain": [
       "      percentual_change  prediction     error\n",
       "0              1.549141    0.113907 -1.435234\n",
       "1              0.321694    0.254179 -0.067515\n",
       "2              1.286125    0.113907 -1.172218\n",
       "3             -0.478620    0.435360  0.913981\n",
       "4             -0.159793    0.188104  0.347897\n",
       "...                 ...         ...       ...\n",
       "1784           0.461216    0.404175 -0.057041\n",
       "1785          -0.205404    0.098376  0.303780\n",
       "1786           1.117118    0.603548 -0.513570\n",
       "1787           1.204008    0.472029 -0.731979\n",
       "1788          -0.544754   -0.544754  0.000000\n",
       "\n",
       "[1789 rows x 3 columns]"
      ]
     },
     "execution_count": 33,
     "metadata": {},
     "output_type": "execute_result"
    }
   ],
   "source": [
    "#Calculate the error\n",
    "df_predictions['error'] = df_predictions['prediction'] - df_predictions['percentual_change']\n",
    "df_predictions"
   ]
  },
  {
   "cell_type": "code",
   "execution_count": 34,
   "id": "6bd001e4",
   "metadata": {},
   "outputs": [],
   "source": [
    "#sum all errors\n",
    "df_predictions['error2'] = df_predictions.error**2 #multyiply it because of negative sums\n",
    "sse = df_predictions.error2.sum()"
   ]
  },
  {
   "cell_type": "code",
   "execution_count": 35,
   "id": "698c1bcf",
   "metadata": {},
   "outputs": [
    {
     "data": {
      "text/plain": [
       "1.4682465001083045"
      ]
     },
     "execution_count": 35,
     "metadata": {},
     "output_type": "execute_result"
    }
   ],
   "source": [
    "mse = df_predictions.error2.mean()\n",
    "mse"
   ]
  },
  {
   "cell_type": "code",
   "execution_count": 36,
   "id": "ef2abebb",
   "metadata": {},
   "outputs": [
    {
     "data": {
      "text/plain": [
       "1.2117122183539721"
      ]
     },
     "execution_count": 36,
     "metadata": {},
     "output_type": "execute_result"
    }
   ],
   "source": [
    "rmse = np.sqrt(mse)\n",
    "rmse # this is our standart deviation"
   ]
  },
  {
   "cell_type": "code",
   "execution_count": 37,
   "id": "e2d04779",
   "metadata": {},
   "outputs": [
    {
     "data": {
      "text/plain": [
       "<AxesSubplot: >"
      ]
     },
     "execution_count": 37,
     "metadata": {},
     "output_type": "execute_result"
    },
    {
     "data": {
      "image/png": "[encoded data removed]",
      "text/plain": [
       "<Figure size 640x480 with 1 Axes>"
      ]
     },
     "metadata": {},
     "output_type": "display_data"
    }
   ],
   "source": [
    "df_predictions.error.hist(bins=30)"
   ]
  },
  {
   "cell_type": "code",
   "execution_count": 38,
   "id": "4904e419",
   "metadata": {},
   "outputs": [],
   "source": [
    "#save model into a pickle file\n",
    "with open(\"models/model_dt_Regression.pkl\", 'wb') as f:\n",
    "    pickle.dump(model_dt, f)"
   ]
  },
  {
   "cell_type": "code",
   "execution_count": 39,
   "id": "604d9c8a",
   "metadata": {},
   "outputs": [],
   "source": [
    "#Load pickle model\n",
    "with open(\"models/model_dt_Regression.pkl\", 'rb') as f:\n",
    "    model_dt = pickle.load(f)"
   ]
  },
  {
   "cell_type": "code",
   "execution_count": 61,
   "id": "17b02634",
   "metadata": {},
   "outputs": [],
   "source": [
    "class RegressionModel(Strategy):\n",
    "    limit_buy = 1\n",
    "    limit_sell = -5\n",
    "    \n",
    "    def init(self):\n",
    "        self.model = model_dt\n",
    "        self.already_bought = False\n",
    "\n",
    "    def next(self):\n",
    "        explanatory_today = self.data.df.iloc[[-1], :]\n",
    "        forecast_tomorrow = self.model.predict(explanatory_today)[0]\n",
    "        \n",
    "        if forecast_tomorrow > self.limit_buy and self.already_bought == False:\n",
    "            self.buy()\n",
    "            self.already_bought = True\n",
    "        elif forecast_tomorrow < self.limit_sell and self.already_bought == True:\n",
    "            self.sell()\n",
    "            self.already_bought = False\n",
    "        else:\n",
    "            pass "
   ]
  },
  {
   "cell_type": "code",
   "execution_count": 53,
   "id": "985be6be",
   "metadata": {},
   "outputs": [
    {
     "data": {
      "text/html": [
       "<div>\n",
       "<style scoped>\n",
       "    .dataframe tbody tr th:only-of-type {\n",
       "        vertical-align: middle;\n",
       "    }\n",
       "\n",
       "    .dataframe tbody tr th {\n",
       "        vertical-align: top;\n",
       "    }\n",
       "\n",
       "    .dataframe thead th {\n",
       "        text-align: right;\n",
       "    }\n",
       "</style>\n",
       "<table border=\"1\" class=\"dataframe\">\n",
       "  <thead>\n",
       "    <tr style=\"text-align: right;\">\n",
       "      <th></th>\n",
       "      <th>Open</th>\n",
       "      <th>High</th>\n",
       "      <th>Low</th>\n",
       "      <th>Close</th>\n",
       "      <th>Volume</th>\n",
       "    </tr>\n",
       "  </thead>\n",
       "  <tbody>\n",
       "    <tr>\n",
       "      <th>0</th>\n",
       "      <td>61.299999</td>\n",
       "      <td>61.580002</td>\n",
       "      <td>60.840000</td>\n",
       "      <td>61.009998</td>\n",
       "      <td>21220800</td>\n",
       "    </tr>\n",
       "    <tr>\n",
       "      <th>1</th>\n",
       "      <td>61.180000</td>\n",
       "      <td>61.990002</td>\n",
       "      <td>61.130001</td>\n",
       "      <td>61.970001</td>\n",
       "      <td>27349400</td>\n",
       "    </tr>\n",
       "    <tr>\n",
       "      <th>2</th>\n",
       "      <td>61.820000</td>\n",
       "      <td>62.299999</td>\n",
       "      <td>61.720001</td>\n",
       "      <td>62.169998</td>\n",
       "      <td>20198100</td>\n",
       "    </tr>\n",
       "    <tr>\n",
       "      <th>3</th>\n",
       "      <td>62.500000</td>\n",
       "      <td>63.419998</td>\n",
       "      <td>62.240002</td>\n",
       "      <td>62.980000</td>\n",
       "      <td>35718900</td>\n",
       "    </tr>\n",
       "    <tr>\n",
       "      <th>4</th>\n",
       "      <td>63.000000</td>\n",
       "      <td>63.450001</td>\n",
       "      <td>62.529999</td>\n",
       "      <td>62.680000</td>\n",
       "      <td>30352700</td>\n",
       "    </tr>\n",
       "    <tr>\n",
       "      <th>...</th>\n",
       "      <td>...</td>\n",
       "      <td>...</td>\n",
       "      <td>...</td>\n",
       "      <td>...</td>\n",
       "      <td>...</td>\n",
       "    </tr>\n",
       "    <tr>\n",
       "      <th>1784</th>\n",
       "      <td>385.489990</td>\n",
       "      <td>388.679993</td>\n",
       "      <td>384.649994</td>\n",
       "      <td>388.470001</td>\n",
       "      <td>21645700</td>\n",
       "    </tr>\n",
       "    <tr>\n",
       "      <th>1785</th>\n",
       "      <td>393.660004</td>\n",
       "      <td>394.029999</td>\n",
       "      <td>387.619995</td>\n",
       "      <td>390.269989</td>\n",
       "      <td>27202300</td>\n",
       "    </tr>\n",
       "    <tr>\n",
       "      <th>1786</th>\n",
       "      <td>387.980011</td>\n",
       "      <td>390.109985</td>\n",
       "      <td>384.809998</td>\n",
       "      <td>389.470001</td>\n",
       "      <td>22234100</td>\n",
       "    </tr>\n",
       "    <tr>\n",
       "      <th>1787</th>\n",
       "      <td>391.720001</td>\n",
       "      <td>393.989990</td>\n",
       "      <td>390.119995</td>\n",
       "      <td>393.869995</td>\n",
       "      <td>23392100</td>\n",
       "    </tr>\n",
       "    <tr>\n",
       "      <th>1788</th>\n",
       "      <td>395.760010</td>\n",
       "      <td>398.670013</td>\n",
       "      <td>393.500000</td>\n",
       "      <td>398.670013</td>\n",
       "      <td>29272000</td>\n",
       "    </tr>\n",
       "  </tbody>\n",
       "</table>\n",
       "<p>1789 rows × 5 columns</p>\n",
       "</div>"
      ],
      "text/plain": [
       "            Open        High         Low       Close    Volume\n",
       "0      61.299999   61.580002   60.840000   61.009998  21220800\n",
       "1      61.180000   61.990002   61.130001   61.970001  27349400\n",
       "2      61.820000   62.299999   61.720001   62.169998  20198100\n",
       "3      62.500000   63.419998   62.240002   62.980000  35718900\n",
       "4      63.000000   63.450001   62.529999   62.680000  30352700\n",
       "...          ...         ...         ...         ...       ...\n",
       "1784  385.489990  388.679993  384.649994  388.470001  21645700\n",
       "1785  393.660004  394.029999  387.619995  390.269989  27202300\n",
       "1786  387.980011  390.109985  384.809998  389.470001  22234100\n",
       "1787  391.720001  393.989990  390.119995  393.869995  23392100\n",
       "1788  395.760010  398.670013  393.500000  398.670013  29272000\n",
       "\n",
       "[1789 rows x 5 columns]"
      ]
     },
     "execution_count": 53,
     "metadata": {},
     "output_type": "execute_result"
    }
   ],
   "source": [
    "df_explanatory = df[['Open', 'High', 'Low', 'Close', 'Volume']].copy()\n",
    "df_explanatory"
   ]
  },
  {
   "cell_type": "code",
   "execution_count": 62,
   "id": "b12eb9e5",
   "metadata": {
    "scrolled": true
   },
   "outputs": [
    {
     "name": "stderr",
     "output_type": "stream",
     "text": [
      "/var/folders/ys/s_50lzbs7rs9jt85q2gs20xc0000gn/T/ipykernel_1223/969247589.py:1: UserWarning: Data index is not datetime. Assuming simple periods, but `pd.DateTimeIndex` is advised.\n",
      "  bt = Backtest(df_explanatory, RegressionModel,\n"
     ]
    }
   ],
   "source": [
    "bt = Backtest(df_explanatory, RegressionModel,\n",
    "              cash=10000, commission=0.002, exclusive_orders=True)"
   ]
  },
  {
   "cell_type": "code",
   "execution_count": 63,
   "id": "1c1bc102",
   "metadata": {},
   "outputs": [],
   "source": [
    "results = bt.run()"
   ]
  },
  {
   "cell_type": "code",
   "execution_count": 64,
   "id": "acafa561",
   "metadata": {},
   "outputs": [
    {
     "data": {
      "text/html": [
       "<div>\n",
       "<style scoped>\n",
       "    .dataframe tbody tr th:only-of-type {\n",
       "        vertical-align: middle;\n",
       "    }\n",
       "\n",
       "    .dataframe tbody tr th {\n",
       "        vertical-align: top;\n",
       "    }\n",
       "\n",
       "    .dataframe thead th {\n",
       "        text-align: right;\n",
       "    }\n",
       "</style>\n",
       "<table border=\"1\" class=\"dataframe\">\n",
       "  <thead>\n",
       "    <tr style=\"text-align: right;\">\n",
       "      <th></th>\n",
       "      <th>Values</th>\n",
       "    </tr>\n",
       "  </thead>\n",
       "  <tbody>\n",
       "    <tr>\n",
       "      <th>Start</th>\n",
       "      <td>0.0</td>\n",
       "    </tr>\n",
       "    <tr>\n",
       "      <th>End</th>\n",
       "      <td>1788.0</td>\n",
       "    </tr>\n",
       "    <tr>\n",
       "      <th>Duration</th>\n",
       "      <td>1788.0</td>\n",
       "    </tr>\n",
       "    <tr>\n",
       "      <th>Exposure Time [%]</th>\n",
       "      <td>97.875908</td>\n",
       "    </tr>\n",
       "    <tr>\n",
       "      <th>Equity Final [$]</th>\n",
       "      <td>76531.16321</td>\n",
       "    </tr>\n",
       "    <tr>\n",
       "      <th>Equity Peak [$]</th>\n",
       "      <td>76531.16321</td>\n",
       "    </tr>\n",
       "    <tr>\n",
       "      <th>Return [%]</th>\n",
       "      <td>665.311632</td>\n",
       "    </tr>\n",
       "  </tbody>\n",
       "</table>\n",
       "</div>"
      ],
      "text/plain": [
       "                        Values\n",
       "Start                      0.0\n",
       "End                     1788.0\n",
       "Duration                1788.0\n",
       "Exposure Time [%]    97.875908\n",
       "Equity Final [$]   76531.16321\n",
       "Equity Peak [$]    76531.16321\n",
       "Return [%]          665.311632"
      ]
     },
     "execution_count": 64,
     "metadata": {},
     "output_type": "execute_result"
    }
   ],
   "source": [
    "results.to_frame(name='Values').loc[:'Return [%]']"
   ]
  },
  {
   "cell_type": "code",
   "execution_count": 78,
   "id": "6922940f",
   "metadata": {},
   "outputs": [
    {
     "name": "stderr",
     "output_type": "stream",
     "text": [
      "/Library/Frameworks/Python.framework/Versions/3.10/lib/python3.10/site-packages/backtesting/backtesting.py:1375: UserWarning: For multiprocessing support in `Backtest.optimize()` set multiprocessing start method to 'fork'.\n",
      "  warnings.warn(\"For multiprocessing support in `Backtest.optimize()` \"\n",
      "                                                                                \r"
     ]
    }
   ],
   "source": [
    "#Optimize\n",
    "#Create list for limit buy and sell\n",
    "list_limits_buy = list(range(0, 11, 1))\n",
    "list_limits_sell = list(range(-1, -11, -1))\n",
    "\n",
    "result = bt.optimize(limit_buy = list_limits_buy,\n",
    "           limit_sell = list_limits_sell,\n",
    "           maximize = 'Return [%]',\n",
    "           return_heatmap=True)"
   ]
  },
  {
   "cell_type": "code",
   "execution_count": 83,
   "id": "c53242b2",
   "metadata": {},
   "outputs": [
    {
     "data": {
      "text/plain": [
       "Start                                     0.0\n",
       "End                                    1788.0\n",
       "Duration                               1788.0\n",
       "Exposure Time [%]                   99.888206\n",
       "Equity Final [$]               2165482.974834\n",
       "Equity Peak [$]                2165482.974834\n",
       "Return [%]                       21554.829748\n",
       "Buy & Hold Return [%]              553.450294\n",
       "Return (Ann.) [%]                         0.0\n",
       "Volatility (Ann.) [%]                     NaN\n",
       "Sharpe Ratio                              NaN\n",
       "Sortino Ratio                             NaN\n",
       "Calmar Ratio                              0.0\n",
       "Max. Drawdown [%]                  -16.828563\n",
       "Avg. Drawdown [%]                   -2.359585\n",
       "Max. Drawdown Duration                   76.0\n",
       "Avg. Drawdown Duration               7.099057\n",
       "# Trades                                221.0\n",
       "Win Rate [%]                        73.755656\n",
       "Best Trade [%]                      33.309739\n",
       "Worst Trade [%]                     -9.791965\n",
       "Avg. Trade [%]                       2.466015\n",
       "Max. Trade Duration                     142.0\n",
       "Avg. Trade Duration                  8.081448\n",
       "Profit Factor                        5.811706\n",
       "Expectancy [%]                        2.59242\n",
       "SQN                                  4.730677\n",
       "_strategy                 RegressionModel(...\n",
       "_equity_curve                         Equi...\n",
       "_trades                        Size  Entry...\n",
       "dtype: object"
      ]
     },
     "execution_count": 83,
     "metadata": {},
     "output_type": "execute_result"
    }
   ],
   "source": [
    "result[0]"
   ]
  },
  {
   "cell_type": "code",
   "execution_count": 84,
   "id": "43731137",
   "metadata": {},
   "outputs": [
    {
     "data": {
      "text/plain": [
       "limit_buy  limit_sell\n",
       "0          -1            21554.829748\n",
       "           -2             6672.141926\n",
       "           -3             4479.750286\n",
       "           -4             1859.696474\n",
       "           -5              953.642483\n",
       "                             ...     \n",
       "10         -6             -100.000000\n",
       "           -7             -100.000000\n",
       "           -8             -100.000000\n",
       "           -9             -100.000000\n",
       "           -10            -100.000000\n",
       "Name: Return [%], Length: 110, dtype: float64"
      ]
     },
     "execution_count": 84,
     "metadata": {},
     "output_type": "execute_result"
    }
   ],
   "source": [
    "result[1]"
   ]
  },
  {
   "cell_type": "code",
   "execution_count": 88,
   "id": "dffba1db",
   "metadata": {},
   "outputs": [],
   "source": [
    "dff = result[1].reset_index()"
   ]
  },
  {
   "cell_type": "code",
   "execution_count": 89,
   "id": "da4256a4",
   "metadata": {},
   "outputs": [],
   "source": [
    "#Create a heatmap\n",
    "dff = dff.pivot(index='limit_buy', columns='limit_sell', values='Return [%]')"
   ]
  },
  {
   "cell_type": "code",
   "execution_count": 96,
   "id": "feb0256c",
   "metadata": {},
   "outputs": [
    {
     "data": {
      "text/html": [
       "<style type=\"text/css\">\n",
       "</style>\n",
       "<table id=\"T_428df\">\n",
       "  <thead>\n",
       "    <tr>\n",
       "      <th class=\"index_name level0\" >limit_sell</th>\n",
       "      <th id=\"T_428df_level0_col0\" class=\"col_heading level0 col0\" >-1</th>\n",
       "      <th id=\"T_428df_level0_col1\" class=\"col_heading level0 col1\" >-2</th>\n",
       "      <th id=\"T_428df_level0_col2\" class=\"col_heading level0 col2\" >-3</th>\n",
       "      <th id=\"T_428df_level0_col3\" class=\"col_heading level0 col3\" >-4</th>\n",
       "      <th id=\"T_428df_level0_col4\" class=\"col_heading level0 col4\" >-5</th>\n",
       "      <th id=\"T_428df_level0_col5\" class=\"col_heading level0 col5\" >-6</th>\n",
       "      <th id=\"T_428df_level0_col6\" class=\"col_heading level0 col6\" >-7</th>\n",
       "      <th id=\"T_428df_level0_col7\" class=\"col_heading level0 col7\" >-8</th>\n",
       "      <th id=\"T_428df_level0_col8\" class=\"col_heading level0 col8\" >-9</th>\n",
       "      <th id=\"T_428df_level0_col9\" class=\"col_heading level0 col9\" >-10</th>\n",
       "    </tr>\n",
       "    <tr>\n",
       "      <th class=\"index_name level0\" >limit_buy</th>\n",
       "      <th class=\"blank col0\" >&nbsp;</th>\n",
       "      <th class=\"blank col1\" >&nbsp;</th>\n",
       "      <th class=\"blank col2\" >&nbsp;</th>\n",
       "      <th class=\"blank col3\" >&nbsp;</th>\n",
       "      <th class=\"blank col4\" >&nbsp;</th>\n",
       "      <th class=\"blank col5\" >&nbsp;</th>\n",
       "      <th class=\"blank col6\" >&nbsp;</th>\n",
       "      <th class=\"blank col7\" >&nbsp;</th>\n",
       "      <th class=\"blank col8\" >&nbsp;</th>\n",
       "      <th class=\"blank col9\" >&nbsp;</th>\n",
       "    </tr>\n",
       "  </thead>\n",
       "  <tbody>\n",
       "    <tr>\n",
       "      <th id=\"T_428df_level0_row0\" class=\"row_heading level0 row0\" >0</th>\n",
       "      <td id=\"T_428df_row0_col0\" class=\"data row0 col0\" >21555</td>\n",
       "      <td id=\"T_428df_row0_col1\" class=\"data row0 col1\" >6672</td>\n",
       "      <td id=\"T_428df_row0_col2\" class=\"data row0 col2\" >4480</td>\n",
       "      <td id=\"T_428df_row0_col3\" class=\"data row0 col3\" >1860</td>\n",
       "      <td id=\"T_428df_row0_col4\" class=\"data row0 col4\" >954</td>\n",
       "      <td id=\"T_428df_row0_col5\" class=\"data row0 col5\" >692</td>\n",
       "      <td id=\"T_428df_row0_col6\" class=\"data row0 col6\" >558</td>\n",
       "      <td id=\"T_428df_row0_col7\" class=\"data row0 col7\" >538</td>\n",
       "      <td id=\"T_428df_row0_col8\" class=\"data row0 col8\" >514</td>\n",
       "      <td id=\"T_428df_row0_col9\" class=\"data row0 col9\" >514</td>\n",
       "    </tr>\n",
       "    <tr>\n",
       "      <th id=\"T_428df_level0_row1\" class=\"row_heading level0 row1\" >1</th>\n",
       "      <td id=\"T_428df_row1_col0\" class=\"data row1 col0\" >2501</td>\n",
       "      <td id=\"T_428df_row1_col1\" class=\"data row1 col1\" >2653</td>\n",
       "      <td id=\"T_428df_row1_col2\" class=\"data row1 col2\" >1955</td>\n",
       "      <td id=\"T_428df_row1_col3\" class=\"data row1 col3\" >1171</td>\n",
       "      <td id=\"T_428df_row1_col4\" class=\"data row1 col4\" >665</td>\n",
       "      <td id=\"T_428df_row1_col5\" class=\"data row1 col5\" >690</td>\n",
       "      <td id=\"T_428df_row1_col6\" class=\"data row1 col6\" >591</td>\n",
       "      <td id=\"T_428df_row1_col7\" class=\"data row1 col7\" >570</td>\n",
       "      <td id=\"T_428df_row1_col8\" class=\"data row1 col8\" >498</td>\n",
       "      <td id=\"T_428df_row1_col9\" class=\"data row1 col9\" >498</td>\n",
       "    </tr>\n",
       "    <tr>\n",
       "      <th id=\"T_428df_level0_row2\" class=\"row_heading level0 row2\" >2</th>\n",
       "      <td id=\"T_428df_row2_col0\" class=\"data row2 col0\" >162</td>\n",
       "      <td id=\"T_428df_row2_col1\" class=\"data row2 col1\" >1239</td>\n",
       "      <td id=\"T_428df_row2_col2\" class=\"data row2 col2\" >1108</td>\n",
       "      <td id=\"T_428df_row2_col3\" class=\"data row2 col3\" >882</td>\n",
       "      <td id=\"T_428df_row2_col4\" class=\"data row2 col4\" >455</td>\n",
       "      <td id=\"T_428df_row2_col5\" class=\"data row2 col5\" >467</td>\n",
       "      <td id=\"T_428df_row2_col6\" class=\"data row2 col6\" >419</td>\n",
       "      <td id=\"T_428df_row2_col7\" class=\"data row2 col7\" >403</td>\n",
       "      <td id=\"T_428df_row2_col8\" class=\"data row2 col8\" >348</td>\n",
       "      <td id=\"T_428df_row2_col9\" class=\"data row2 col9\" >348</td>\n",
       "    </tr>\n",
       "    <tr>\n",
       "      <th id=\"T_428df_level0_row3\" class=\"row_heading level0 row3\" >3</th>\n",
       "      <td id=\"T_428df_row3_col0\" class=\"data row3 col0\" >-64</td>\n",
       "      <td id=\"T_428df_row3_col1\" class=\"data row3 col1\" >-2</td>\n",
       "      <td id=\"T_428df_row3_col2\" class=\"data row3 col2\" >50</td>\n",
       "      <td id=\"T_428df_row3_col3\" class=\"data row3 col3\" >150</td>\n",
       "      <td id=\"T_428df_row3_col4\" class=\"data row3 col4\" >158</td>\n",
       "      <td id=\"T_428df_row3_col5\" class=\"data row3 col5\" >151</td>\n",
       "      <td id=\"T_428df_row3_col6\" class=\"data row3 col6\" >268</td>\n",
       "      <td id=\"T_428df_row3_col7\" class=\"data row3 col7\" >317</td>\n",
       "      <td id=\"T_428df_row3_col8\" class=\"data row3 col8\" >336</td>\n",
       "      <td id=\"T_428df_row3_col9\" class=\"data row3 col9\" >336</td>\n",
       "    </tr>\n",
       "    <tr>\n",
       "      <th id=\"T_428df_level0_row4\" class=\"row_heading level0 row4\" >4</th>\n",
       "      <td id=\"T_428df_row4_col0\" class=\"data row4 col0\" >-75</td>\n",
       "      <td id=\"T_428df_row4_col1\" class=\"data row4 col1\" >-0</td>\n",
       "      <td id=\"T_428df_row4_col2\" class=\"data row4 col2\" >68</td>\n",
       "      <td id=\"T_428df_row4_col3\" class=\"data row4 col3\" >193</td>\n",
       "      <td id=\"T_428df_row4_col4\" class=\"data row4 col4\" >194</td>\n",
       "      <td id=\"T_428df_row4_col5\" class=\"data row4 col5\" >140</td>\n",
       "      <td id=\"T_428df_row4_col6\" class=\"data row4 col6\" >253</td>\n",
       "      <td id=\"T_428df_row4_col7\" class=\"data row4 col7\" >301</td>\n",
       "      <td id=\"T_428df_row4_col8\" class=\"data row4 col8\" >317</td>\n",
       "      <td id=\"T_428df_row4_col9\" class=\"data row4 col9\" >317</td>\n",
       "    </tr>\n",
       "    <tr>\n",
       "      <th id=\"T_428df_level0_row5\" class=\"row_heading level0 row5\" >5</th>\n",
       "      <td id=\"T_428df_row5_col0\" class=\"data row5 col0\" >-79</td>\n",
       "      <td id=\"T_428df_row5_col1\" class=\"data row5 col1\" >-6</td>\n",
       "      <td id=\"T_428df_row5_col2\" class=\"data row5 col2\" >18</td>\n",
       "      <td id=\"T_428df_row5_col3\" class=\"data row5 col3\" >170</td>\n",
       "      <td id=\"T_428df_row5_col4\" class=\"data row5 col4\" >222</td>\n",
       "      <td id=\"T_428df_row5_col5\" class=\"data row5 col5\" >166</td>\n",
       "      <td id=\"T_428df_row5_col6\" class=\"data row5 col6\" >253</td>\n",
       "      <td id=\"T_428df_row5_col7\" class=\"data row5 col7\" >301</td>\n",
       "      <td id=\"T_428df_row5_col8\" class=\"data row5 col8\" >317</td>\n",
       "      <td id=\"T_428df_row5_col9\" class=\"data row5 col9\" >317</td>\n",
       "    </tr>\n",
       "    <tr>\n",
       "      <th id=\"T_428df_level0_row6\" class=\"row_heading level0 row6\" >6</th>\n",
       "      <td id=\"T_428df_row6_col0\" class=\"data row6 col0\" >-100</td>\n",
       "      <td id=\"T_428df_row6_col1\" class=\"data row6 col1\" >-100</td>\n",
       "      <td id=\"T_428df_row6_col2\" class=\"data row6 col2\" >-100</td>\n",
       "      <td id=\"T_428df_row6_col3\" class=\"data row6 col3\" >151</td>\n",
       "      <td id=\"T_428df_row6_col4\" class=\"data row6 col4\" >207</td>\n",
       "      <td id=\"T_428df_row6_col5\" class=\"data row6 col5\" >166</td>\n",
       "      <td id=\"T_428df_row6_col6\" class=\"data row6 col6\" >253</td>\n",
       "      <td id=\"T_428df_row6_col7\" class=\"data row6 col7\" >301</td>\n",
       "      <td id=\"T_428df_row6_col8\" class=\"data row6 col8\" >317</td>\n",
       "      <td id=\"T_428df_row6_col9\" class=\"data row6 col9\" >317</td>\n",
       "    </tr>\n",
       "    <tr>\n",
       "      <th id=\"T_428df_level0_row7\" class=\"row_heading level0 row7\" >7</th>\n",
       "      <td id=\"T_428df_row7_col0\" class=\"data row7 col0\" >-100</td>\n",
       "      <td id=\"T_428df_row7_col1\" class=\"data row7 col1\" >-100</td>\n",
       "      <td id=\"T_428df_row7_col2\" class=\"data row7 col2\" >-100</td>\n",
       "      <td id=\"T_428df_row7_col3\" class=\"data row7 col3\" >-100</td>\n",
       "      <td id=\"T_428df_row7_col4\" class=\"data row7 col4\" >69</td>\n",
       "      <td id=\"T_428df_row7_col5\" class=\"data row7 col5\" >150</td>\n",
       "      <td id=\"T_428df_row7_col6\" class=\"data row7 col6\" >155</td>\n",
       "      <td id=\"T_428df_row7_col7\" class=\"data row7 col7\" >155</td>\n",
       "      <td id=\"T_428df_row7_col8\" class=\"data row7 col8\" >166</td>\n",
       "      <td id=\"T_428df_row7_col9\" class=\"data row7 col9\" >166</td>\n",
       "    </tr>\n",
       "    <tr>\n",
       "      <th id=\"T_428df_level0_row8\" class=\"row_heading level0 row8\" >8</th>\n",
       "      <td id=\"T_428df_row8_col0\" class=\"data row8 col0\" >-100</td>\n",
       "      <td id=\"T_428df_row8_col1\" class=\"data row8 col1\" >-100</td>\n",
       "      <td id=\"T_428df_row8_col2\" class=\"data row8 col2\" >-100</td>\n",
       "      <td id=\"T_428df_row8_col3\" class=\"data row8 col3\" >-100</td>\n",
       "      <td id=\"T_428df_row8_col4\" class=\"data row8 col4\" >-100</td>\n",
       "      <td id=\"T_428df_row8_col5\" class=\"data row8 col5\" >-59</td>\n",
       "      <td id=\"T_428df_row8_col6\" class=\"data row8 col6\" >-57</td>\n",
       "      <td id=\"T_428df_row8_col7\" class=\"data row8 col7\" >-57</td>\n",
       "      <td id=\"T_428df_row8_col8\" class=\"data row8 col8\" >151</td>\n",
       "      <td id=\"T_428df_row8_col9\" class=\"data row8 col9\" >151</td>\n",
       "    </tr>\n",
       "    <tr>\n",
       "      <th id=\"T_428df_level0_row9\" class=\"row_heading level0 row9\" >9</th>\n",
       "      <td id=\"T_428df_row9_col0\" class=\"data row9 col0\" >-100</td>\n",
       "      <td id=\"T_428df_row9_col1\" class=\"data row9 col1\" >-100</td>\n",
       "      <td id=\"T_428df_row9_col2\" class=\"data row9 col2\" >-100</td>\n",
       "      <td id=\"T_428df_row9_col3\" class=\"data row9 col3\" >-100</td>\n",
       "      <td id=\"T_428df_row9_col4\" class=\"data row9 col4\" >-100</td>\n",
       "      <td id=\"T_428df_row9_col5\" class=\"data row9 col5\" >-100</td>\n",
       "      <td id=\"T_428df_row9_col6\" class=\"data row9 col6\" >-100</td>\n",
       "      <td id=\"T_428df_row9_col7\" class=\"data row9 col7\" >-100</td>\n",
       "      <td id=\"T_428df_row9_col8\" class=\"data row9 col8\" >-100</td>\n",
       "      <td id=\"T_428df_row9_col9\" class=\"data row9 col9\" >-100</td>\n",
       "    </tr>\n",
       "    <tr>\n",
       "      <th id=\"T_428df_level0_row10\" class=\"row_heading level0 row10\" >10</th>\n",
       "      <td id=\"T_428df_row10_col0\" class=\"data row10 col0\" >-100</td>\n",
       "      <td id=\"T_428df_row10_col1\" class=\"data row10 col1\" >-100</td>\n",
       "      <td id=\"T_428df_row10_col2\" class=\"data row10 col2\" >-100</td>\n",
       "      <td id=\"T_428df_row10_col3\" class=\"data row10 col3\" >-100</td>\n",
       "      <td id=\"T_428df_row10_col4\" class=\"data row10 col4\" >-100</td>\n",
       "      <td id=\"T_428df_row10_col5\" class=\"data row10 col5\" >-100</td>\n",
       "      <td id=\"T_428df_row10_col6\" class=\"data row10 col6\" >-100</td>\n",
       "      <td id=\"T_428df_row10_col7\" class=\"data row10 col7\" >-100</td>\n",
       "      <td id=\"T_428df_row10_col8\" class=\"data row10 col8\" >-100</td>\n",
       "      <td id=\"T_428df_row10_col9\" class=\"data row10 col9\" >-100</td>\n",
       "    </tr>\n",
       "  </tbody>\n",
       "</table>\n"
      ],
      "text/plain": [
       "<pandas.io.formats.style.Styler at 0x13a071c90>"
      ]
     },
     "execution_count": 96,
     "metadata": {},
     "output_type": "execute_result"
    }
   ],
   "source": [
    "dff.sort_index(axis=1, ascending=False)\\\n",
    ".style.format(precision=0)"
   ]
  },
  {
   "cell_type": "code",
   "execution_count": null,
   "id": "1a2dbb0f",
   "metadata": {},
   "outputs": [],
   "source": []
  },
  {
   "cell_type": "code",
   "execution_count": null,
   "id": "b1169641",
   "metadata": {},
   "outputs": [],
   "source": []
  },
  {
   "cell_type": "code",
   "execution_count": null,
   "id": "9c2c79cb",
   "metadata": {},
   "outputs": [],
   "source": []
  }
 ],
 "metadata": {
  "kernelspec": {
   "display_name": "Python 3 (ipykernel)",
   "language": "python",
   "name": "python3"
  },
  "language_info": {
   "codemirror_mode": {
    "name": "ipython",
    "version": 3
   },
   "file_extension": ".py",
   "mimetype": "text/x-python",
   "name": "python",
   "nbconvert_exporter": "python",
   "pygments_lexer": "ipython3",
   "version": "3.10.5"
  }
 },
 "nbformat": 4,
 "nbformat_minor": 5
}
